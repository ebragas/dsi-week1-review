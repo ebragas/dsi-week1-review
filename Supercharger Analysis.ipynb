{
 "cells": [
  {
   "cell_type": "markdown",
   "metadata": {},
   "source": [
    "## Setup"
   ]
  },
  {
   "cell_type": "code",
   "execution_count": 95,
   "metadata": {},
   "outputs": [],
   "source": [
    "import matplotlib.pyplot as plt\n",
    "import numpy as np\n",
    "import pandas as pd\n",
    "import psycopg2 as pg2\n",
    "%matplotlib inline"
   ]
  },
  {
   "cell_type": "markdown",
   "metadata": {},
   "source": [
    "## Import and explore"
   ]
  },
  {
   "cell_type": "code",
   "execution_count": 10,
   "metadata": {},
   "outputs": [
    {
     "name": "stdout",
     "output_type": "stream",
     "text": [
      "<class 'pandas.core.frame.DataFrame'>\n",
      "RangeIndex: 976 entries, 0 to 975\n",
      "Data columns (total 13 columns):\n",
      "Supercharger        976 non-null object\n",
      "Street Address ?    0 non-null float64\n",
      "City                976 non-null object\n",
      "State               606 non-null object\n",
      "Zip                 733 non-null object\n",
      "Country             976 non-null object\n",
      "Stalls              976 non-null int64\n",
      "GPS                 976 non-null object\n",
      "Elev.(m)            976 non-null object\n",
      "Status              976 non-null object\n",
      "Open Date           0 non-null float64\n",
      "Tesla               976 non-null object\n",
      "Discuss             976 non-null object\n",
      "dtypes: float64(2), int64(1), object(10)\n",
      "memory usage: 99.2+ KB\n"
     ]
    }
   ],
   "source": [
    "df = pd.read_csv('data/superchargers.csv', encoding='iso-8859-1')\n",
    "df.info()"
   ]
  },
  {
   "cell_type": "code",
   "execution_count": 17,
   "metadata": {},
   "outputs": [
    {
     "data": {
      "text/html": [
       "<div>\n",
       "<style scoped>\n",
       "    .dataframe tbody tr th:only-of-type {\n",
       "        vertical-align: middle;\n",
       "    }\n",
       "\n",
       "    .dataframe tbody tr th {\n",
       "        vertical-align: top;\n",
       "    }\n",
       "\n",
       "    .dataframe thead th {\n",
       "        text-align: right;\n",
       "    }\n",
       "</style>\n",
       "<table border=\"1\" class=\"dataframe\">\n",
       "  <thead>\n",
       "    <tr style=\"text-align: right;\">\n",
       "      <th></th>\n",
       "      <th>Supercharger</th>\n",
       "      <th>Street Address ?</th>\n",
       "      <th>City</th>\n",
       "      <th>State</th>\n",
       "      <th>Zip</th>\n",
       "      <th>Country</th>\n",
       "      <th>Stalls</th>\n",
       "      <th>GPS</th>\n",
       "      <th>Elev.(m)</th>\n",
       "      <th>Status</th>\n",
       "      <th>Open Date</th>\n",
       "      <th>Tesla</th>\n",
       "      <th>Discuss</th>\n",
       "    </tr>\n",
       "  </thead>\n",
       "  <tbody>\n",
       "    <tr>\n",
       "      <th>0</th>\n",
       "      <td>Newark, DE</td>\n",
       "      <td>NaN</td>\n",
       "      <td>Newark</td>\n",
       "      <td>DE</td>\n",
       "      <td>19725</td>\n",
       "      <td>USA</td>\n",
       "      <td>12</td>\n",
       "      <td>39.6635, -75.69017</td>\n",
       "      <td>18</td>\n",
       "      <td>Open</td>\n",
       "      <td>NaN</td>\n",
       "      <td>SC</td>\n",
       "      <td>thread</td>\n",
       "    </tr>\n",
       "    <tr>\n",
       "      <th>1</th>\n",
       "      <td>Girona-Hotel ibis, Spain</td>\n",
       "      <td>NaN</td>\n",
       "      <td>Girona</td>\n",
       "      <td>NaN</td>\n",
       "      <td>NaN</td>\n",
       "      <td>Spain</td>\n",
       "      <td>4</td>\n",
       "      <td>41.998411, 2.817295</td>\n",
       "      <td>83</td>\n",
       "      <td>Open</td>\n",
       "      <td>NaN</td>\n",
       "      <td>SC</td>\n",
       "      <td>thread</td>\n",
       "    </tr>\n",
       "    <tr>\n",
       "      <th>2</th>\n",
       "      <td>Hangzhou-Binjiang, China</td>\n",
       "      <td>NaN</td>\n",
       "      <td>Hangzhou</td>\n",
       "      <td>Zhejiang</td>\n",
       "      <td>310051</td>\n",
       "      <td>China</td>\n",
       "      <td>4</td>\n",
       "      <td>30.178795, 120.218038</td>\n",
       "      <td>8</td>\n",
       "      <td>Open</td>\n",
       "      <td>NaN</td>\n",
       "      <td>SC</td>\n",
       "      <td>forum</td>\n",
       "    </tr>\n",
       "    <tr>\n",
       "      <th>3</th>\n",
       "      <td>Price, UT</td>\n",
       "      <td>NaN</td>\n",
       "      <td>Price</td>\n",
       "      <td>UT</td>\n",
       "      <td>84501</td>\n",
       "      <td>USA</td>\n",
       "      <td>8</td>\n",
       "      <td>39.600731, -110.831701</td>\n",
       "      <td>1,207</td>\n",
       "      <td>Open</td>\n",
       "      <td>NaN</td>\n",
       "      <td>SC</td>\n",
       "      <td>thread</td>\n",
       "    </tr>\n",
       "    <tr>\n",
       "      <th>4</th>\n",
       "      <td>Ödeshög, Sweden</td>\n",
       "      <td>NaN</td>\n",
       "      <td>Ödeshög</td>\n",
       "      <td>NaN</td>\n",
       "      <td>NaN</td>\n",
       "      <td>Sweden</td>\n",
       "      <td>8</td>\n",
       "      <td>58.227074, 14.668253</td>\n",
       "      <td>140</td>\n",
       "      <td>Open</td>\n",
       "      <td>NaN</td>\n",
       "      <td>SC</td>\n",
       "      <td>forum</td>\n",
       "    </tr>\n",
       "  </tbody>\n",
       "</table>\n",
       "</div>"
      ],
      "text/plain": [
       "               Supercharger  Street Address ?      City     State     Zip  \\\n",
       "0                Newark, DE               NaN    Newark        DE   19725   \n",
       "1  Girona-Hotel ibis, Spain               NaN    Girona       NaN     NaN   \n",
       "2  Hangzhou-Binjiang, China               NaN  Hangzhou  Zhejiang  310051   \n",
       "3                 Price, UT               NaN     Price        UT   84501   \n",
       "4           Ödeshög, Sweden               NaN   Ödeshög       NaN     NaN   \n",
       "\n",
       "  Country  Stalls                     GPS Elev.(m) Status  Open Date Tesla  \\\n",
       "0     USA      12      39.6635, -75.69017       18   Open        NaN    SC   \n",
       "1   Spain       4     41.998411, 2.817295       83   Open        NaN    SC   \n",
       "2   China       4   30.178795, 120.218038        8   Open        NaN    SC   \n",
       "3     USA       8  39.600731, -110.831701    1,207   Open        NaN    SC   \n",
       "4  Sweden       8    58.227074, 14.668253      140   Open        NaN    SC   \n",
       "\n",
       "  Discuss  \n",
       "0  thread  \n",
       "1  thread  \n",
       "2   forum  \n",
       "3  thread  \n",
       "4   forum  "
      ]
     },
     "execution_count": 17,
     "metadata": {},
     "output_type": "execute_result"
    }
   ],
   "source": [
    "df.head()"
   ]
  },
  {
   "cell_type": "code",
   "execution_count": 19,
   "metadata": {},
   "outputs": [
    {
     "data": {
      "text/plain": [
       "thread    608\n",
       "forum     368\n",
       "Name: Discuss, dtype: int64"
      ]
     },
     "execution_count": 19,
     "metadata": {},
     "output_type": "execute_result"
    }
   ],
   "source": [
    "df['Discuss'].value_counts()"
   ]
  },
  {
   "cell_type": "code",
   "execution_count": 20,
   "metadata": {},
   "outputs": [
    {
     "data": {
      "text/plain": [
       "SC    976\n",
       "Name: Tesla, dtype: int64"
      ]
     },
     "execution_count": 20,
     "metadata": {},
     "output_type": "execute_result"
    }
   ],
   "source": [
    "df['Tesla'].value_counts()"
   ]
  },
  {
   "cell_type": "code",
   "execution_count": 25,
   "metadata": {},
   "outputs": [
    {
     "data": {
      "text/plain": [
       "Open            907\n",
       "Construction     43\n",
       "Permit           26\n",
       "Name: Status, dtype: int64"
      ]
     },
     "execution_count": 25,
     "metadata": {},
     "output_type": "execute_result"
    }
   ],
   "source": [
    "df['Status'].value_counts()"
   ]
  },
  {
   "cell_type": "markdown",
   "metadata": {},
   "source": [
    "## Clean-up\n",
    "1. Remove columns: `Discuss`, `Tesla`, `Open Date`, `Street Address`\n",
    "1. Split GPS coordinates\n",
    "1. Convert `Elev.(m)` to numeric type"
   ]
  },
  {
   "cell_type": "code",
   "execution_count": 156,
   "metadata": {},
   "outputs": [
    {
     "data": {
      "text/html": [
       "<div>\n",
       "<style scoped>\n",
       "    .dataframe tbody tr th:only-of-type {\n",
       "        vertical-align: middle;\n",
       "    }\n",
       "\n",
       "    .dataframe tbody tr th {\n",
       "        vertical-align: top;\n",
       "    }\n",
       "\n",
       "    .dataframe thead th {\n",
       "        text-align: right;\n",
       "    }\n",
       "</style>\n",
       "<table border=\"1\" class=\"dataframe\">\n",
       "  <thead>\n",
       "    <tr style=\"text-align: right;\">\n",
       "      <th></th>\n",
       "      <th>Supercharger</th>\n",
       "      <th>City</th>\n",
       "      <th>State</th>\n",
       "      <th>Zip</th>\n",
       "      <th>Country</th>\n",
       "      <th>Stalls</th>\n",
       "      <th>GPS</th>\n",
       "      <th>Elev.(m)</th>\n",
       "      <th>Status</th>\n",
       "    </tr>\n",
       "  </thead>\n",
       "  <tbody>\n",
       "    <tr>\n",
       "      <th>0</th>\n",
       "      <td>Newark, DE</td>\n",
       "      <td>Newark</td>\n",
       "      <td>DE</td>\n",
       "      <td>19725</td>\n",
       "      <td>USA</td>\n",
       "      <td>12</td>\n",
       "      <td>39.6635, -75.69017</td>\n",
       "      <td>18</td>\n",
       "      <td>Open</td>\n",
       "    </tr>\n",
       "    <tr>\n",
       "      <th>1</th>\n",
       "      <td>Girona-Hotel ibis, Spain</td>\n",
       "      <td>Girona</td>\n",
       "      <td>NaN</td>\n",
       "      <td>NaN</td>\n",
       "      <td>Spain</td>\n",
       "      <td>4</td>\n",
       "      <td>41.998411, 2.817295</td>\n",
       "      <td>83</td>\n",
       "      <td>Open</td>\n",
       "    </tr>\n",
       "    <tr>\n",
       "      <th>2</th>\n",
       "      <td>Hangzhou-Binjiang, China</td>\n",
       "      <td>Hangzhou</td>\n",
       "      <td>Zhejiang</td>\n",
       "      <td>310051</td>\n",
       "      <td>China</td>\n",
       "      <td>4</td>\n",
       "      <td>30.178795, 120.218038</td>\n",
       "      <td>8</td>\n",
       "      <td>Open</td>\n",
       "    </tr>\n",
       "    <tr>\n",
       "      <th>3</th>\n",
       "      <td>Price, UT</td>\n",
       "      <td>Price</td>\n",
       "      <td>UT</td>\n",
       "      <td>84501</td>\n",
       "      <td>USA</td>\n",
       "      <td>8</td>\n",
       "      <td>39.600731, -110.831701</td>\n",
       "      <td>1,207</td>\n",
       "      <td>Open</td>\n",
       "    </tr>\n",
       "    <tr>\n",
       "      <th>4</th>\n",
       "      <td>Ödeshög, Sweden</td>\n",
       "      <td>Ödeshög</td>\n",
       "      <td>NaN</td>\n",
       "      <td>NaN</td>\n",
       "      <td>Sweden</td>\n",
       "      <td>8</td>\n",
       "      <td>58.227074, 14.668253</td>\n",
       "      <td>140</td>\n",
       "      <td>Open</td>\n",
       "    </tr>\n",
       "  </tbody>\n",
       "</table>\n",
       "</div>"
      ],
      "text/plain": [
       "               Supercharger      City     State     Zip Country  Stalls  \\\n",
       "0                Newark, DE    Newark        DE   19725     USA      12   \n",
       "1  Girona-Hotel ibis, Spain    Girona       NaN     NaN   Spain       4   \n",
       "2  Hangzhou-Binjiang, China  Hangzhou  Zhejiang  310051   China       4   \n",
       "3                 Price, UT     Price        UT   84501     USA       8   \n",
       "4           Ödeshög, Sweden   Ödeshög       NaN     NaN  Sweden       8   \n",
       "\n",
       "                      GPS Elev.(m) Status  \n",
       "0      39.6635, -75.69017       18   Open  \n",
       "1     41.998411, 2.817295       83   Open  \n",
       "2   30.178795, 120.218038        8   Open  \n",
       "3  39.600731, -110.831701    1,207   Open  \n",
       "4    58.227074, 14.668253      140   Open  "
      ]
     },
     "execution_count": 156,
     "metadata": {},
     "output_type": "execute_result"
    }
   ],
   "source": [
    "# Remove columns (had to use df2.columns[1] because string col name wasn't working)\n",
    "df2 = df.copy()\n",
    "df2.drop(['Discuss', 'Tesla', 'Open Date', df2.columns[1]], axis=1, inplace=True)\n",
    "df2.head()"
   ]
  },
  {
   "cell_type": "code",
   "execution_count": 158,
   "metadata": {},
   "outputs": [
    {
     "name": "stdout",
     "output_type": "stream",
     "text": [
      "<class 'pandas.core.frame.DataFrame'>\n",
      "RangeIndex: 976 entries, 0 to 975\n",
      "Data columns (total 10 columns):\n",
      "Supercharger    976 non-null object\n",
      "City            976 non-null object\n",
      "State           606 non-null object\n",
      "Zip             733 non-null object\n",
      "Country         976 non-null object\n",
      "Stalls          976 non-null int64\n",
      "Elev.(m)        976 non-null object\n",
      "Status          976 non-null object\n",
      "Lat             976 non-null float64\n",
      "Lon             976 non-null float64\n",
      "dtypes: float64(2), int64(1), object(7)\n",
      "memory usage: 76.3+ KB\n"
     ]
    }
   ],
   "source": [
    "# Split coordinates\n",
    "gps_coords = df2['GPS'].str.split(', ', expand=True)\n",
    "gps_coords.columns = ['Lat', 'Lon']\n",
    "gps_coords['Lat'] = pd.to_numeric(gps_coords['Lat'])\n",
    "gps_coords['Lon'] = pd.to_numeric(gps_coords['Lon'])\n",
    "\n",
    "# Join back to df\n",
    "df3 = df2.join(gps_coords)\n",
    "\n",
    "# Clean-up\n",
    "df3.drop('GPS', axis=1, inplace=True)\n",
    "df3.info()"
   ]
  },
  {
   "cell_type": "code",
   "execution_count": 159,
   "metadata": {},
   "outputs": [
    {
     "name": "stdout",
     "output_type": "stream",
     "text": [
      "<class 'pandas.core.frame.DataFrame'>\n",
      "RangeIndex: 976 entries, 0 to 975\n",
      "Data columns (total 10 columns):\n",
      "Supercharger    976 non-null object\n",
      "City            976 non-null object\n",
      "State           606 non-null object\n",
      "Zip             733 non-null object\n",
      "Country         976 non-null object\n",
      "Stalls          976 non-null int64\n",
      "Elev.(m)        976 non-null int64\n",
      "Status          976 non-null object\n",
      "Lat             976 non-null float64\n",
      "Lon             976 non-null float64\n",
      "dtypes: float64(2), int64(2), object(6)\n",
      "memory usage: 76.3+ KB\n"
     ]
    }
   ],
   "source": [
    "# Convert Elev.(m) data type\n",
    "df4 = df3.copy()\n",
    "df4['Elev.(m)'] = pd.to_numeric(df3['Elev.(m)'].str.replace(',', ''))\n",
    "df4.info()"
   ]
  },
  {
   "cell_type": "code",
   "execution_count": 160,
   "metadata": {},
   "outputs": [
    {
     "data": {
      "text/html": [
       "<div>\n",
       "<style scoped>\n",
       "    .dataframe tbody tr th:only-of-type {\n",
       "        vertical-align: middle;\n",
       "    }\n",
       "\n",
       "    .dataframe tbody tr th {\n",
       "        vertical-align: top;\n",
       "    }\n",
       "\n",
       "    .dataframe thead th {\n",
       "        text-align: right;\n",
       "    }\n",
       "</style>\n",
       "<table border=\"1\" class=\"dataframe\">\n",
       "  <thead>\n",
       "    <tr style=\"text-align: right;\">\n",
       "      <th></th>\n",
       "      <th>Supercharger</th>\n",
       "      <th>City</th>\n",
       "      <th>State</th>\n",
       "      <th>Zip</th>\n",
       "      <th>Country</th>\n",
       "      <th>Stalls</th>\n",
       "      <th>Elev.(m)</th>\n",
       "      <th>Status</th>\n",
       "      <th>Lat</th>\n",
       "      <th>Lon</th>\n",
       "    </tr>\n",
       "  </thead>\n",
       "  <tbody>\n",
       "    <tr>\n",
       "      <th>0</th>\n",
       "      <td>Newark, DE</td>\n",
       "      <td>Newark</td>\n",
       "      <td>DE</td>\n",
       "      <td>19725</td>\n",
       "      <td>USA</td>\n",
       "      <td>12</td>\n",
       "      <td>18</td>\n",
       "      <td>Open</td>\n",
       "      <td>39.663500</td>\n",
       "      <td>-75.690170</td>\n",
       "    </tr>\n",
       "    <tr>\n",
       "      <th>1</th>\n",
       "      <td>Girona-Hotel ibis, Spain</td>\n",
       "      <td>Girona</td>\n",
       "      <td>NaN</td>\n",
       "      <td>NaN</td>\n",
       "      <td>Spain</td>\n",
       "      <td>4</td>\n",
       "      <td>83</td>\n",
       "      <td>Open</td>\n",
       "      <td>41.998411</td>\n",
       "      <td>2.817295</td>\n",
       "    </tr>\n",
       "    <tr>\n",
       "      <th>2</th>\n",
       "      <td>Hangzhou-Binjiang, China</td>\n",
       "      <td>Hangzhou</td>\n",
       "      <td>Zhejiang</td>\n",
       "      <td>310051</td>\n",
       "      <td>China</td>\n",
       "      <td>4</td>\n",
       "      <td>8</td>\n",
       "      <td>Open</td>\n",
       "      <td>30.178795</td>\n",
       "      <td>120.218038</td>\n",
       "    </tr>\n",
       "    <tr>\n",
       "      <th>3</th>\n",
       "      <td>Price, UT</td>\n",
       "      <td>Price</td>\n",
       "      <td>UT</td>\n",
       "      <td>84501</td>\n",
       "      <td>USA</td>\n",
       "      <td>8</td>\n",
       "      <td>1207</td>\n",
       "      <td>Open</td>\n",
       "      <td>39.600731</td>\n",
       "      <td>-110.831701</td>\n",
       "    </tr>\n",
       "    <tr>\n",
       "      <th>4</th>\n",
       "      <td>Ödeshög, Sweden</td>\n",
       "      <td>Ödeshög</td>\n",
       "      <td>NaN</td>\n",
       "      <td>NaN</td>\n",
       "      <td>Sweden</td>\n",
       "      <td>8</td>\n",
       "      <td>140</td>\n",
       "      <td>Open</td>\n",
       "      <td>58.227074</td>\n",
       "      <td>14.668253</td>\n",
       "    </tr>\n",
       "  </tbody>\n",
       "</table>\n",
       "</div>"
      ],
      "text/plain": [
       "               Supercharger      City     State     Zip Country  Stalls  \\\n",
       "0                Newark, DE    Newark        DE   19725     USA      12   \n",
       "1  Girona-Hotel ibis, Spain    Girona       NaN     NaN   Spain       4   \n",
       "2  Hangzhou-Binjiang, China  Hangzhou  Zhejiang  310051   China       4   \n",
       "3                 Price, UT     Price        UT   84501     USA       8   \n",
       "4           Ödeshög, Sweden   Ödeshög       NaN     NaN  Sweden       8   \n",
       "\n",
       "   Elev.(m) Status        Lat         Lon  \n",
       "0        18   Open  39.663500  -75.690170  \n",
       "1        83   Open  41.998411    2.817295  \n",
       "2         8   Open  30.178795  120.218038  \n",
       "3      1207   Open  39.600731 -110.831701  \n",
       "4       140   Open  58.227074   14.668253  "
      ]
     },
     "execution_count": 160,
     "metadata": {},
     "output_type": "execute_result"
    }
   ],
   "source": [
    "df4.head()"
   ]
  },
  {
   "cell_type": "markdown",
   "metadata": {},
   "source": [
    "## Write to database"
   ]
  },
  {
   "cell_type": "markdown",
   "metadata": {},
   "source": [
    "Create database"
   ]
  },
  {
   "cell_type": "code",
   "execution_count": 168,
   "metadata": {},
   "outputs": [
    {
     "ename": "OperationalError",
     "evalue": "database \"tesla\" is being accessed by other users\nDETAIL:  There is 1 other session using the database.\n",
     "output_type": "error",
     "traceback": [
      "\u001b[0;31m---------------------------------------------------------------------------\u001b[0m",
      "\u001b[0;31mOperationalError\u001b[0m                          Traceback (most recent call last)",
      "\u001b[0;32m<ipython-input-168-ac682729597b>\u001b[0m in \u001b[0;36m<module>\u001b[0;34m()\u001b[0m\n\u001b[1;32m      5\u001b[0m \u001b[0;34m\u001b[0m\u001b[0m\n\u001b[1;32m      6\u001b[0m \u001b[0;31m# Create database\u001b[0m\u001b[0;34m\u001b[0m\u001b[0;34m\u001b[0m\u001b[0m\n\u001b[0;32m----> 7\u001b[0;31m \u001b[0mcur\u001b[0m\u001b[0;34m.\u001b[0m\u001b[0mexecute\u001b[0m\u001b[0;34m(\u001b[0m\u001b[0;34m'DROP DATABASE IF EXISTS tesla;'\u001b[0m\u001b[0;34m)\u001b[0m\u001b[0;34m\u001b[0m\u001b[0m\n\u001b[0m\u001b[1;32m      8\u001b[0m \u001b[0mcur\u001b[0m\u001b[0;34m.\u001b[0m\u001b[0mexecute\u001b[0m\u001b[0;34m(\u001b[0m\u001b[0;34m'CREATE DATABASE tesla;'\u001b[0m\u001b[0;34m)\u001b[0m\u001b[0;34m\u001b[0m\u001b[0m\n\u001b[1;32m      9\u001b[0m \u001b[0;34m\u001b[0m\u001b[0m\n",
      "\u001b[0;31mOperationalError\u001b[0m: database \"tesla\" is being accessed by other users\nDETAIL:  There is 1 other session using the database.\n"
     ]
    }
   ],
   "source": [
    "# Connect\n",
    "conn = pg2.connect(dbname='postgres', host='localhost')\n",
    "conn.autocommit = True\n",
    "cur = conn.cursor()\n",
    "\n",
    "# Create database\n",
    "cur.execute('DROP DATABASE IF EXISTS tesla;')\n",
    "cur.execute('CREATE DATABASE tesla;')\n",
    "\n",
    "# Close connection\n",
    "conn.close()"
   ]
  },
  {
   "cell_type": "markdown",
   "metadata": {},
   "source": [
    "Create and load table from dataframe"
   ]
  },
  {
   "cell_type": "code",
   "execution_count": 208,
   "metadata": {},
   "outputs": [],
   "source": [
    "# Connect\n",
    "conn = pg2.connect(dbname='tesla', host='localhost')\n",
    "cur = conn.cursor()\n",
    "\n",
    "# Create table\n",
    "cur.execute('DROP TABLE chargers;')\n",
    "\n",
    "ct_query = '''\n",
    "CREATE TABLE IF NOT EXISTS chargers (\n",
    "    supercharger varchar(100) ,\n",
    "    city varchar(100) ,\n",
    "    state varchar(25) ,\n",
    "    zip varchar(25) ,\n",
    "    country varchar(25) ,\n",
    "    stalls int ,\n",
    "    elevation int ,\n",
    "    status varchar(25) ,\n",
    "    lat float ,\n",
    "    lon float );'''\n",
    "\n",
    "cur.execute(ct_query)\n",
    "conn.commit()"
   ]
  },
  {
   "cell_type": "code",
   "execution_count": 215,
   "metadata": {},
   "outputs": [
    {
     "name": "stdout",
     "output_type": "stream",
     "text": [
      "Rows inserted: (976,)\n"
     ]
    }
   ],
   "source": [
    "# Load table\n",
    "cur.execute('TRUNCATE TABLE chargers;')\n",
    "\n",
    "for i in range(len(df4)):\n",
    "    row = list(df4.iloc[i])\n",
    "    row[5] = int(row[5])\n",
    "    row[6] = int(row[6])\n",
    "    cur.execute('INSERT INTO chargers VALUES (%s, %s, %s, %s, %s, %s, %s, %s, %s, %s);', \n",
    "                row)\n",
    "\n",
    "conn.commit()\n",
    "\n",
    "# Return rows affected\n",
    "cur.execute('SELECT COUNT(*) FROM chargers;')\n",
    "print('Rows inserted: {}'.format(cur.fetchone()))\n",
    "conn.commit()"
   ]
  },
  {
   "cell_type": "code",
   "execution_count": 219,
   "metadata": {},
   "outputs": [
    {
     "data": {
      "text/plain": [
       "[('Newark, DE',\n",
       "  'Newark',\n",
       "  'DE',\n",
       "  '19725',\n",
       "  'USA',\n",
       "  12,\n",
       "  18,\n",
       "  'Open',\n",
       "  39.6635,\n",
       "  -75.69017)]"
      ]
     },
     "execution_count": 219,
     "metadata": {},
     "output_type": "execute_result"
    }
   ],
   "source": [
    "cur.execute('SELECT * FROM chargers;')\n",
    "conn.commit()\n",
    "cur.fetchmany(1)"
   ]
  },
  {
   "cell_type": "code",
   "execution_count": 221,
   "metadata": {},
   "outputs": [
    {
     "ename": "InterfaceError",
     "evalue": "connection already closed",
     "output_type": "error",
     "traceback": [
      "\u001b[0;31m---------------------------------------------------------------------------\u001b[0m",
      "\u001b[0;31mInterfaceError\u001b[0m                            Traceback (most recent call last)",
      "\u001b[0;32m<ipython-input-221-c9a13c87118e>\u001b[0m in \u001b[0;36m<module>\u001b[0;34m()\u001b[0m\n\u001b[0;32m----> 1\u001b[0;31m \u001b[0mconn\u001b[0m\u001b[0;34m.\u001b[0m\u001b[0mrollback\u001b[0m\u001b[0;34m(\u001b[0m\u001b[0;34m)\u001b[0m\u001b[0;34m\u001b[0m\u001b[0m\n\u001b[0m\u001b[1;32m      2\u001b[0m \u001b[0mconn\u001b[0m\u001b[0;34m.\u001b[0m\u001b[0mclose\u001b[0m\u001b[0;34m(\u001b[0m\u001b[0;34m)\u001b[0m\u001b[0;34m\u001b[0m\u001b[0m\n",
      "\u001b[0;31mInterfaceError\u001b[0m: connection already closed"
     ]
    }
   ],
   "source": [
    "conn.rollback()\n",
    "conn.close()"
   ]
  },
  {
   "cell_type": "markdown",
   "metadata": {},
   "source": [
    "## Read table to DataFrame and plot"
   ]
  },
  {
   "cell_type": "code",
   "execution_count": null,
   "metadata": {},
   "outputs": [],
   "source": []
  }
 ],
 "metadata": {
  "kernelspec": {
   "display_name": "Python 3",
   "language": "python",
   "name": "python3"
  },
  "language_info": {
   "codemirror_mode": {
    "name": "ipython",
    "version": 3
   },
   "file_extension": ".py",
   "mimetype": "text/x-python",
   "name": "python",
   "nbconvert_exporter": "python",
   "pygments_lexer": "ipython3",
   "version": "3.6.5"
  }
 },
 "nbformat": 4,
 "nbformat_minor": 2
}
